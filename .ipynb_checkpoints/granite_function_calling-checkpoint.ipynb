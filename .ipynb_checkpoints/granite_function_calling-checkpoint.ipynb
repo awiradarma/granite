{
 "cells": [
  {
   "cell_type": "code",
   "execution_count": 1,
   "id": "672561e8-8578-42c3-8efc-0d65018fe977",
   "metadata": {},
   "outputs": [
    {
     "name": "stdout",
     "output_type": "stream",
     "text": [
      "\n",
      "\u001b[1m[\u001b[0m\u001b[34;49mnotice\u001b[0m\u001b[1;39;49m]\u001b[0m\u001b[39;49m A new release of pip is available: \u001b[0m\u001b[31;49m24.2\u001b[0m\u001b[39;49m -> \u001b[0m\u001b[32;49m24.3.1\u001b[0m\n",
      "\u001b[1m[\u001b[0m\u001b[34;49mnotice\u001b[0m\u001b[1;39;49m]\u001b[0m\u001b[39;49m To update, run: \u001b[0m\u001b[32;49mpip install --upgrade pip\u001b[0m\n"
     ]
    }
   ],
   "source": [
    "! pip install -q \"git+https://github.com/ibm-granite-community/utils.git\""
   ]
  },
  {
   "cell_type": "code",
   "execution_count": 2,
   "id": "32db3ebc-2c41-4041-84a7-9be3aa6cbde3",
   "metadata": {},
   "outputs": [
    {
     "name": "stderr",
     "output_type": "stream",
     "text": [
      "None of PyTorch, TensorFlow >= 2.0, or Flax have been found. Models won't be available and only tokenizers, configuration and file/data utilities can be used.\n"
     ]
    }
   ],
   "source": [
    "import requests\n",
    "import ast\n",
    "import re\n",
    "\n",
    "from transformers import AutoTokenizer"
   ]
  },
  {
   "cell_type": "code",
   "execution_count": 3,
   "id": "a9bb61ce-a261-4f1a-b78f-da90542761f6",
   "metadata": {},
   "outputs": [],
   "source": [
    "MODEL_ID = \"ibm/granite-3-8b-instruct\"\n",
    "\n",
    "TOKENIZER = AutoTokenizer.from_pretrained(\"ibm-granite/granite-3.0-8b-instruct\")"
   ]
  },
  {
   "cell_type": "code",
   "execution_count": 4,
   "id": "af1087c4-15e2-4f98-b680-c7df11e3440e",
   "metadata": {},
   "outputs": [],
   "source": [
    "from ibm_granite_community.notebook_utils import get_env_var"
   ]
  },
  {
   "cell_type": "code",
   "execution_count": 5,
   "id": "fb99a474-12f5-4c4d-9b48-7adba078d1a4",
   "metadata": {},
   "outputs": [],
   "source": [
    "\n",
    "def get_stock_price(ticker: str, date: str) -> dict:\n",
    "    \"\"\"\n",
    "    Retrieves the lowest and highest stock prices for a given ticker and date.\n",
    "\n",
    "    Args:\n",
    "        ticker: The stock ticker symbol, e.g., \"IBM\".\n",
    "        date: The date in \"YYYY-MM-DD\" format for which you want to get stock prices.\n",
    "\n",
    "    Returns:\n",
    "        A dictionary containing the low and high stock prices on the given date.\n",
    "    \"\"\"\n",
    "    print(f\"Getting stock price for {ticker} on {date}\")\n",
    "    try:\n",
    "        return {\n",
    "            \"low\": 24,\n",
    "            \"high\": 27\n",
    "        }\n",
    "    except Exception as e:\n",
    "        print(f\"Error fetching stock data: {e}\")\n",
    "        return {\n",
    "            \"low\": \"none\",\n",
    "            \"high\": \"none\"\n",
    "        }"
   ]
  },
  {
   "cell_type": "code",
   "execution_count": 6,
   "id": "972602b7-94ab-4d5e-9ecf-6acaff3e0ce3",
   "metadata": {},
   "outputs": [],
   "source": [
    "def get_current_weather(location: str) -> dict:\n",
    "    \"\"\"\n",
    "    Fetches the current weather for a given location (default: San Francisco).\n",
    "\n",
    "    Args:\n",
    "        location: The name of the city for which to retrieve the weather information.\n",
    "\n",
    "    Returns:\n",
    "        A dictionary containing weather information such as temperature, weather description, and humidity.\n",
    "    \"\"\"\n",
    "    print(f\"Getting current weather for {location}\")\n",
    "\n",
    "    try:\n",
    "        # Returning weather details\n",
    "        return {\n",
    "            \"description\": \"Sunny with a small breeze from north-east\",\n",
    "            \"temperature\": 70,\n",
    "            \"humidity\": \"60%\"\n",
    "        }\n",
    "    except Exception as e:\n",
    "        print(f\"Error fetching weather data: {e}\")\n",
    "        return {\n",
    "            \"description\": \"none\",\n",
    "            \"temperature\": \"none\",\n",
    "            \"humidity\": \"none\"\n",
    "        }"
   ]
  },
  {
   "cell_type": "code",
   "execution_count": 7,
   "id": "2cc5b002-bb16-475c-8b3e-30491656082f",
   "metadata": {},
   "outputs": [
    {
     "data": {
      "text/plain": [
       "[{'type': 'function',\n",
       "  'function': {'name': 'get_stock_price',\n",
       "   'description': 'Retrieves the lowest and highest stock prices for a given ticker and date.',\n",
       "   'parameters': {'type': 'object',\n",
       "    'properties': {'ticker': {'type': 'string',\n",
       "      'description': 'The stock ticker symbol, e.g., \"IBM\".'},\n",
       "     'date': {'type': 'string',\n",
       "      'description': 'The date in \"YYYY-MM-DD\" format for which you want to get stock prices.'}},\n",
       "    'required': ['ticker', 'date']},\n",
       "   'return': {'type': 'object',\n",
       "    'description': 'A dictionary containing the low and high stock prices on the given date.'}}},\n",
       " {'type': 'function',\n",
       "  'function': {'name': 'get_current_weather',\n",
       "   'description': 'Fetches the current weather for a given location (default: San Francisco).',\n",
       "   'parameters': {'type': 'object',\n",
       "    'properties': {'location': {'type': 'string',\n",
       "      'description': 'The name of the city for which to retrieve the weather information.'}},\n",
       "    'required': ['location']},\n",
       "   'return': {'type': 'object',\n",
       "    'description': 'A dictionary containing weather information such as temperature, weather description, and humidity.'}}}]"
      ]
     },
     "execution_count": 7,
     "metadata": {},
     "output_type": "execute_result"
    }
   ],
   "source": [
    "from transformers.utils import get_json_schema\n",
    "\n",
    "tools = [get_json_schema(tool) for tool in (get_stock_price, get_current_weather)]\n",
    "tools"
   ]
  },
  {
   "cell_type": "code",
   "execution_count": 8,
   "id": "d354fb0f-3903-4aaa-8ace-02b763d58cfd",
   "metadata": {},
   "outputs": [],
   "source": [
    "query = \"What were the IBM stock prices on October 7, 2024?\""
   ]
  },
  {
   "cell_type": "code",
   "execution_count": 9,
   "id": "768c6856-262d-415b-924a-998e677ac6ab",
   "metadata": {},
   "outputs": [
    {
     "data": {
      "text/plain": [
       "'<|start_of_role|>available_tools<|end_of_role|>\\n{\\n    \"type\": \"function\",\\n    \"function\": {\\n        \"name\": \"get_stock_price\",\\n        \"description\": \"Retrieves the lowest and highest stock prices for a given ticker and date.\",\\n        \"parameters\": {\\n            \"type\": \"object\",\\n            \"properties\": {\\n                \"ticker\": {\\n                    \"type\": \"string\",\\n                    \"description\": \"The stock ticker symbol, e.g., \\\\\"IBM\\\\\".\"\\n                },\\n                \"date\": {\\n                    \"type\": \"string\",\\n                    \"description\": \"The date in \\\\\"YYYY-MM-DD\\\\\" format for which you want to get stock prices.\"\\n                }\\n            },\\n            \"required\": [\\n                \"ticker\",\\n                \"date\"\\n            ]\\n        },\\n        \"return\": {\\n            \"type\": \"object\",\\n            \"description\": \"A dictionary containing the low and high stock prices on the given date.\"\\n        }\\n    }\\n}\\n\\n{\\n    \"type\": \"function\",\\n    \"function\": {\\n        \"name\": \"get_current_weather\",\\n        \"description\": \"Fetches the current weather for a given location (default: San Francisco).\",\\n        \"parameters\": {\\n            \"type\": \"object\",\\n            \"properties\": {\\n                \"location\": {\\n                    \"type\": \"string\",\\n                    \"description\": \"The name of the city for which to retrieve the weather information.\"\\n                }\\n            },\\n            \"required\": [\\n                \"location\"\\n            ]\\n        },\\n        \"return\": {\\n            \"type\": \"object\",\\n            \"description\": \"A dictionary containing weather information such as temperature, weather description, and humidity.\"\\n        }\\n    }\\n}<|end_of_text|>\\n<|start_of_role|>system<|end_of_role|>You are a helpful assistant with access to the following function calls. Your task is to produce a list of function calls necessary to generate response to the user utterance. Use the following function calls as required.<|end_of_text|>\\n<|start_of_role|>user<|end_of_role|>What were the IBM stock prices on October 7, 2024?<|end_of_text|>\\n<|start_of_role|>assistant<|end_of_role|>'"
      ]
     },
     "execution_count": 9,
     "metadata": {},
     "output_type": "execute_result"
    }
   ],
   "source": [
    "conversation = [\n",
    "    {\"role\": \"system\",\"content\": \"You are a helpful assistant with access to the following function calls. Your task is to produce a list of function calls necessary to generate response to the user utterance. Use the following function calls as required.\"},\n",
    "    {\"role\": \"user\", \"content\": query },\n",
    "]\n",
    "\n",
    "instruction_1 = TOKENIZER.apply_chat_template(conversation=conversation, tools=tools, tokenize=False, add_generation_prompt=True)\n",
    "instruction_1"
   ]
  },
  {
   "cell_type": "code",
   "execution_count": 10,
   "id": "fc7b88da-ec7f-4d8d-a313-03db48f8c716",
   "metadata": {},
   "outputs": [
    {
     "data": {
      "text/plain": [
       "'{\"name\": \"get_stock_price\", \"arguments\": {\"ticker\": \"IBM\", \"date\": \"2024-10-07\"}}'"
      ]
     },
     "execution_count": 10,
     "metadata": {},
     "output_type": "execute_result"
    }
   ],
   "source": [
    "import ollama\n",
    "\n",
    "# Instantiate the Ollama client\n",
    "ollama_client = ollama.Client()\n",
    "\n",
    "# Send a message to the model\n",
    "\n",
    "def invoke_model(input: str):\n",
    "    output = ollama_client.generate(\n",
    "        model=\"granite3-dense:8b\",\n",
    "        prompt=instruction_1\n",
    "    )\n",
    "    return output.response\n",
    "data_1 = invoke_model(instruction_1)\n",
    "data_1"
   ]
  },
  {
   "cell_type": "code",
   "execution_count": 11,
   "id": "3f300af2-6fae-4121-88b0-6944db538806",
   "metadata": {},
   "outputs": [],
   "source": [
    "def tool_call(llm_response: str):\n",
    "    tool_request = ast.literal_eval(re.search(\"({.+})\", llm_response).group(0))\n",
    "    tool_name = tool_request[\"name\"]\n",
    "    tool_arguments = tool_request[\"arguments\"]\n",
    "    tool_response = globals()[tool_name](**tool_arguments)\n",
    "    return tool_response"
   ]
  },
  {
   "cell_type": "code",
   "execution_count": 12,
   "id": "30062c0e-ce65-4903-a1b2-533fc51b10e8",
   "metadata": {},
   "outputs": [
    {
     "name": "stdout",
     "output_type": "stream",
     "text": [
      "Getting stock price for IBM on 2024-10-07\n"
     ]
    },
    {
     "data": {
      "text/plain": [
       "{'low': 24, 'high': 27}"
      ]
     },
     "execution_count": 12,
     "metadata": {},
     "output_type": "execute_result"
    }
   ],
   "source": [
    "tool_response = tool_call(data_1)\n",
    "tool_response"
   ]
  },
  {
   "cell_type": "code",
   "execution_count": 21,
   "id": "a983e2f4-d251-4e19-bc2d-c5b32411a89e",
   "metadata": {},
   "outputs": [
    {
     "data": {
      "text/plain": [
       "'[{\"name\": \"get_current_weather\", \"arguments\": {\"location\": \"San Francisco\"}}]'"
      ]
     },
     "execution_count": 21,
     "metadata": {},
     "output_type": "execute_result"
    }
   ],
   "source": [
    "conversation2 = conversation + [\n",
    "    {\"role\": \"system\", \"content\": \"You are a helpful assistant.\"},\n",
    "    {\"role\": \"user\", \"content\": \"Display the tool response in natural language.\" },\n",
    "    {\"role\": \"tool_response\", \"content\": str(tool_response) },\n",
    "]\n",
    "\n",
    "instruction_2 = TOKENIZER.apply_chat_template(conversation=conversation2, tools=tools, tokenize=False, add_generation_prompt=True)\n",
    "data_2 = invoke_model(instruction_2)\n",
    "data_2"
   ]
  },
  {
   "cell_type": "code",
   "execution_count": 22,
   "id": "0345695b-b5eb-485e-bc47-af364e0eb085",
   "metadata": {},
   "outputs": [],
   "source": [
    "query = \"What is the current weather in San Francisco?\""
   ]
  },
  {
   "cell_type": "code",
   "execution_count": 23,
   "id": "09385167-ccfa-442c-a7f6-6f9cb1dcdcd7",
   "metadata": {},
   "outputs": [
    {
     "data": {
      "text/plain": [
       "'<|start_of_role|>available_tools<|end_of_role|>\\n{\\n    \"type\": \"function\",\\n    \"function\": {\\n        \"name\": \"get_stock_price\",\\n        \"description\": \"Retrieves the lowest and highest stock prices for a given ticker and date.\",\\n        \"parameters\": {\\n            \"type\": \"object\",\\n            \"properties\": {\\n                \"ticker\": {\\n                    \"type\": \"string\",\\n                    \"description\": \"The stock ticker symbol, e.g., \\\\\"IBM\\\\\".\"\\n                },\\n                \"date\": {\\n                    \"type\": \"string\",\\n                    \"description\": \"The date in \\\\\"YYYY-MM-DD\\\\\" format for which you want to get stock prices.\"\\n                }\\n            },\\n            \"required\": [\\n                \"ticker\",\\n                \"date\"\\n            ]\\n        },\\n        \"return\": {\\n            \"type\": \"object\",\\n            \"description\": \"A dictionary containing the low and high stock prices on the given date.\"\\n        }\\n    }\\n}\\n\\n{\\n    \"type\": \"function\",\\n    \"function\": {\\n        \"name\": \"get_current_weather\",\\n        \"description\": \"Fetches the current weather for a given location (default: San Francisco).\",\\n        \"parameters\": {\\n            \"type\": \"object\",\\n            \"properties\": {\\n                \"location\": {\\n                    \"type\": \"string\",\\n                    \"description\": \"The name of the city for which to retrieve the weather information.\"\\n                }\\n            },\\n            \"required\": [\\n                \"location\"\\n            ]\\n        },\\n        \"return\": {\\n            \"type\": \"object\",\\n            \"description\": \"A dictionary containing weather information such as temperature, weather description, and humidity.\"\\n        }\\n    }\\n}<|end_of_text|>\\n<|start_of_role|>system<|end_of_role|>You are a helpful assistant with access to the following function calls. Your task is to produce a list of function calls necessary to generate response to the user utterance. Use the following function calls as required.<|end_of_text|>\\n<|start_of_role|>user<|end_of_role|>What is the current weather in San Francisco?<|end_of_text|>\\n<|start_of_role|>assistant<|end_of_role|>'"
      ]
     },
     "execution_count": 23,
     "metadata": {},
     "output_type": "execute_result"
    }
   ],
   "source": [
    "conversation = [\n",
    "    {\"role\": \"system\",\"content\": \"You are a helpful assistant with access to the following function calls. Your task is to produce a list of function calls necessary to generate response to the user utterance. Use the following function calls as required.\"},\n",
    "    {\"role\": \"user\", \"content\": query },\n",
    "]\n",
    "\n",
    "instruction_1 = TOKENIZER.apply_chat_template(conversation=conversation, tools=tools, tokenize=False, add_generation_prompt=True)\n",
    "instruction_1"
   ]
  },
  {
   "cell_type": "code",
   "execution_count": 24,
   "id": "1a14adb8-8b67-4e0d-beb4-e86c8236e18a",
   "metadata": {},
   "outputs": [
    {
     "data": {
      "text/plain": [
       "'{\"name\": \"get_current_weather\", \"arguments\": {\"location\": \"San Francisco\"}}'"
      ]
     },
     "execution_count": 24,
     "metadata": {},
     "output_type": "execute_result"
    }
   ],
   "source": [
    "data_1 = invoke_model(instruction_1)\n",
    "data_1"
   ]
  },
  {
   "cell_type": "code",
   "execution_count": 25,
   "id": "9a87c6a8-f27f-4c50-b245-b66684547044",
   "metadata": {},
   "outputs": [
    {
     "name": "stdout",
     "output_type": "stream",
     "text": [
      "Getting current weather for San Francisco\n"
     ]
    },
    {
     "data": {
      "text/plain": [
       "{'description': 'Sunny with a small breeze from north-east',\n",
       " 'temperature': 70,\n",
       " 'humidity': '60%'}"
      ]
     },
     "execution_count": 25,
     "metadata": {},
     "output_type": "execute_result"
    }
   ],
   "source": [
    "tool_response = tool_call(data_1)\n",
    "tool_response"
   ]
  },
  {
   "cell_type": "code",
   "execution_count": null,
   "id": "77a6ac40-b31d-4b00-aa2c-b7c6d400d70d",
   "metadata": {},
   "outputs": [],
   "source": []
  }
 ],
 "metadata": {
  "kernelspec": {
   "display_name": "Python 3 (ipykernel)",
   "language": "python",
   "name": "python3"
  },
  "language_info": {
   "codemirror_mode": {
    "name": "ipython",
    "version": 3
   },
   "file_extension": ".py",
   "mimetype": "text/x-python",
   "name": "python",
   "nbconvert_exporter": "python",
   "pygments_lexer": "ipython3",
   "version": "3.12.3"
  }
 },
 "nbformat": 4,
 "nbformat_minor": 5
}
